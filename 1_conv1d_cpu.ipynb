{
  "cells": [
    {
      "cell_type": "markdown",
      "metadata": {
        "id": "view-in-github",
        "colab_type": "text"
      },
      "source": [
        "<a href=\"https://colab.research.google.com/github/CaseyPYZ/CaseyPYZ.github.io/blob/master/1_conv1d_cpu.ipynb\" target=\"_parent\"><img src=\"https://colab.research.google.com/assets/colab-badge.svg\" alt=\"Open In Colab\"/></a>"
      ]
    },
    {
      "cell_type": "markdown",
      "metadata": {
        "id": "9eGZIh3o1xch"
      },
      "source": [
        "# 1D Convolution on CPU"
      ]
    },
    {
      "cell_type": "markdown",
      "metadata": {
        "id": "r5gwyPUUumRA"
      },
      "source": [
        "## 1. Set-up "
      ]
    },
    {
      "cell_type": "code",
      "execution_count": 2,
      "metadata": {
        "id": "LNyXaMjvumRA",
        "colab": {
          "base_uri": "https://localhost:8080/"
        },
        "outputId": "a7ed1c34-1cd6-457d-d69d-529e23899830"
      },
      "outputs": [
        {
          "output_type": "stream",
          "name": "stdout",
          "text": [
            "Mounted at /content/gdrive\n"
          ]
        }
      ],
      "source": [
        "# Mount google drive \n",
        "from google.colab import drive\n",
        "drive.mount('/content/gdrive')"
      ]
    },
    {
      "cell_type": "code",
      "execution_count": 3,
      "metadata": {
        "id": "fslOIHToumRB"
      },
      "outputs": [],
      "source": [
        "# Make sure your token is stored in a txt file at the location below.\n",
        "# This way there is no risk that you will push it to your repo\n",
        "# Never share your token with anyone, it is basically your github password!\n",
        "with open('/content/gdrive/MyDrive/ece5545/token.txt') as f:\n",
        "    token = f.readline().strip()\n",
        "# Use another file to store your github username    \n",
        "with open('/content/gdrive/MyDrive/ece5545/git_username.txt') as f:\n",
        "    handle = f.readline().strip()"
      ]
    },
    {
      "cell_type": "code",
      "execution_count": 4,
      "metadata": {
        "id": "QfKvlI6fumRC",
        "colab": {
          "base_uri": "https://localhost:8080/"
        },
        "outputId": "39b797db-b256-40c3-980e-26cfdb8c8ccf"
      },
      "outputs": [
        {
          "output_type": "stream",
          "name": "stdout",
          "text": [
            "mkdir: cannot create directory ‘/content/gdrive/MyDrive/ece5545’: File exists\n",
            "/content/gdrive/MyDrive/ece5545\n",
            "fatal: destination path 'a3-CaseyPYZ' already exists and is not an empty directory.\n",
            "/content/gdrive/MyDrive/ece5545/a3-CaseyPYZ\n",
            "M\t1-conv1d_cpu.ipynb\n",
            "M\t2-conv1d_gpu.ipynb\n",
            "M\t4-gemm_gpu.ipynb\n",
            "M\t5-conv2d_dw_gpu.ipynb\n",
            "M\tsrc/ops.py\n",
            "M\ttests/test_dwsp_2dconv_gpu.py\n",
            "Already on 'main'\n",
            "Your branch is behind 'origin/main' by 23 commits, and can be fast-forwarded.\n",
            "  (use \"git pull\" to update your local branch)\n",
            "remote: Enumerating objects: 19, done.\u001b[K\n",
            "remote: Counting objects: 100% (19/19), done.\u001b[K\n",
            "remote: Compressing objects: 100% (10/10), done.\u001b[K\n",
            "remote: Total 15 (delta 8), reused 11 (delta 5), pack-reused 0\u001b[K\n",
            "Unpacking objects: 100% (15/15), done.\n",
            "From https://github.com/ML-HW-SYS/a3-CaseyPYZ\n",
            "   2b5e8cf..5686fd4  main       -> origin/main\n",
            "Updating 7b5483e..5686fd4\n",
            "error: Your local changes to the following files would be overwritten by merge:\n",
            "\tsrc/ops.py\n",
            "\ttests/test_dwsp_2dconv_gpu.py\n",
            "Please commit your changes or stash them before you merge.\n",
            "Aborting\n",
            "/content/gdrive/MyDrive/ece5545\n"
          ]
        }
      ],
      "source": [
        "# Clone your github repo\n",
        "YOUR_TOKEN = token\n",
        "YOUR_HANDLE = handle\n",
        "BRANCH = \"main\"\n",
        "\n",
        "%mkdir /content/gdrive/MyDrive/ece5545\n",
        "%cd /content/gdrive/MyDrive/ece5545\n",
        "!git clone https://{YOUR_TOKEN}@github.com/ML-HW-SYS/a3-{YOUR_HANDLE}.git\n",
        "%cd /content/gdrive/MyDrive/ece5545/a3-{YOUR_HANDLE}\n",
        "!git checkout {BRANCH}\n",
        "!git pull\n",
        "%cd /content/gdrive/MyDrive/ece5545\n",
        "\n",
        "PROJECT_ROOT = f\"/content/gdrive/MyDrive/ece5545/a3-{YOUR_HANDLE}\""
      ]
    },
    {
      "cell_type": "code",
      "execution_count": 5,
      "metadata": {
        "id": "bfYFWbSkumRC"
      },
      "outputs": [],
      "source": [
        "# This extension reloads all imports before running each cell\n",
        "%load_ext autoreload\n",
        "%autoreload 2"
      ]
    },
    {
      "cell_type": "markdown",
      "metadata": {
        "id": "0p1XcV5TumRE"
      },
      "source": [
        "Verify the following cell prints your github repository."
      ]
    },
    {
      "cell_type": "code",
      "execution_count": 6,
      "metadata": {
        "id": "kSCb_BXlumRE",
        "colab": {
          "base_uri": "https://localhost:8080/"
        },
        "outputId": "089d5de9-249a-432c-9032-6470537bb32a"
      },
      "outputs": [
        {
          "output_type": "stream",
          "name": "stdout",
          "text": [
            "1-conv1d_cpu.ipynb   4-gemm_gpu.ipynb\t    README.md\n",
            "2-conv1d_gpu.ipynb   5-conv2d_dw_gpu.ipynb  src\n",
            "3-conv1d_fpga.ipynb  leaderboard_id.txt     tests\n"
          ]
        }
      ],
      "source": [
        "!ls {PROJECT_ROOT}"
      ]
    },
    {
      "cell_type": "markdown",
      "metadata": {
        "id": "Iyx3vv_3umRF"
      },
      "source": [
        "## 2. Install TVM"
      ]
    },
    {
      "cell_type": "code",
      "execution_count": 8,
      "metadata": {
        "id": "01l1WUgRumRG",
        "colab": {
          "base_uri": "https://localhost:8080/"
        },
        "outputId": "6ba4a46c-dbdf-42f4-e0bb-d855c0ec2867"
      },
      "outputs": [
        {
          "output_type": "stream",
          "name": "stdout",
          "text": [
            "Looking in links: https://tlcpack.ai/wheels\n",
            "Collecting tlcpack-nightly-cu102\n",
            "  Downloading https://github.com/tlc-pack/tlcpack/releases/download/v0.7.dev1/tlcpack_nightly_cu102-0.9.dev1049%2Bgaa5628692-cp37-cp37m-manylinux_2_17_x86_64.manylinux2014_x86_64.whl (402.4 MB)\n",
            "\u001b[K     |████████████████████████████████| 402.4 MB 13 kB/s \n",
            "\u001b[?25hRequirement already satisfied: tornado in /usr/local/lib/python3.7/dist-packages (from tlcpack-nightly-cu102) (5.1.1)\n",
            "Requirement already satisfied: attrs in /usr/local/lib/python3.7/dist-packages (from tlcpack-nightly-cu102) (21.4.0)\n",
            "Collecting synr==0.6.0\n",
            "  Downloading synr-0.6.0-py3-none-any.whl (18 kB)\n",
            "Requirement already satisfied: cloudpickle in /usr/local/lib/python3.7/dist-packages (from tlcpack-nightly-cu102) (1.3.0)\n",
            "Requirement already satisfied: numpy in /usr/local/lib/python3.7/dist-packages (from tlcpack-nightly-cu102) (1.21.5)\n",
            "Requirement already satisfied: decorator in /usr/local/lib/python3.7/dist-packages (from tlcpack-nightly-cu102) (4.4.2)\n",
            "Requirement already satisfied: psutil in /usr/local/lib/python3.7/dist-packages (from tlcpack-nightly-cu102) (5.4.8)\n",
            "Requirement already satisfied: scipy in /usr/local/lib/python3.7/dist-packages (from tlcpack-nightly-cu102) (1.4.1)\n",
            "Installing collected packages: synr, tlcpack-nightly-cu102\n",
            "Successfully installed synr-0.6.0 tlcpack-nightly-cu102-0.9.dev1049+gaa5628692\n"
          ]
        }
      ],
      "source": [
        "!pip install tlcpack-nightly-cu102 -f https://tlcpack.ai/wheels"
      ]
    },
    {
      "cell_type": "markdown",
      "metadata": {
        "id": "BwbPgyceumRG"
      },
      "source": [
        "## 3. Implement `make_conv1d_cpu_scheduler_func` function in `src.ops`\n",
        "\n",
        "In that function, you are required to implemented 1D convolution and use TVM to optimize it.\n",
        "Let $x \\in \\mathbb{R}^m$ and $y \\in \\mathbb{R}^n$, then \n",
        "$$\n",
        "\\operatorname{conv1d}(x, y)_i = \\sum_{j=-\\infty}^{\\infty} x[j]y[i-j], \\forall i \\in \\{0, 1, \\dots, m + n - 1\\}\n",
        "$$\n",
        "\n",
        "Please use zero padding and unit stride. Please see the numpy convolution function for more detail: [link](https://numpy.org/doc/stable/reference/generated/numpy.convolve.html).\n",
        "\n",
        "The `make_conv1d_cpu_scheduler_func` takes $m$ and $n$, which are the size of the two 1D input array. \n",
        "You should return both the TVM schedule and the TVM operator for \n",
        "1. Input $x$\n",
        "2. Input $y$\n",
        "3. Output $out$\n",
        "\n",
        "The schedule should be able to used to build a function with signature $func(x, y, out)$. \n",
        "Please see the following cells the usage."
      ]
    },
    {
      "cell_type": "markdown",
      "source": [
        "### **Baseline**"
      ],
      "metadata": {
        "id": "IY_U8iPtXdYy"
      }
    },
    {
      "cell_type": "code",
      "execution_count": null,
      "metadata": {
        "id": "aYlQNGnWumRG",
        "colab": {
          "base_uri": "https://localhost:8080/"
        },
        "outputId": "b13ea01b-381a-44ec-9f3d-285bfba2dfe7"
      },
      "outputs": [
        {
          "output_type": "stream",
          "name": "stdout",
          "text": [
            "Answer: [0.22781187 0.5334949  0.49527073 ... 0.51525605 0.09855287 0.01734382]\n",
            "Output: [0.22781187 0.5334949  0.49527073 ... 0.51525605 0.09855287 0.01734382]\n",
            "1D conv TVM runtime: 48.798321 ms\n"
          ]
        }
      ],
      "source": [
        "import tvm\n",
        "import numpy as np\n",
        "import sys\n",
        "# Adding assignment 3 to the system path\n",
        "# Make sure this matches your git directory\n",
        "sys.path.insert(0, PROJECT_ROOT)\n",
        "from src.ops import make_conv1d_cpu_scheduler\n",
        "\n",
        "M = 4096\n",
        "N = 128\n",
        "dtype = 'float32'\n",
        "a_np = np.random.rand(M).astype(dtype)\n",
        "w_np = np.random.rand(N).astype(dtype)\n",
        "b_np = np.convolve(a_np, w_np)\n",
        "\n",
        "s, A, W, B = make_conv1d_cpu_scheduler(M, N)\n",
        "func = tvm.build(s, [A, W, B], \"llvm\")\n",
        "\n",
        "dev = tvm.cpu()\n",
        "a = tvm.nd.array(a_np, dev)\n",
        "w = tvm.nd.array(w_np, dev)\n",
        "b = tvm.nd.array(np.zeros((M+N-1), dtype), dev)\n",
        "func(a, w, b)\n",
        "evaluator = func.time_evaluator(func.entry_name, dev, number=1, repeat =1)\n",
        "\n",
        "\n",
        "print(\"Answer:\", b_np)\n",
        "print(\"Output:\", b)\n",
        "print(f\"1D conv TVM runtime: %f ms\" % (evaluator(a, w, b).mean * 1e3))"
      ]
    },
    {
      "cell_type": "code",
      "execution_count": null,
      "metadata": {
        "id": "XwaNWdciumRH",
        "colab": {
          "base_uri": "https://localhost:8080/"
        },
        "outputId": "59b67367-19ad-4172-afb6-2e11d9171d2f"
      },
      "outputs": [
        {
          "output_type": "stream",
          "name": "stdout",
          "text": [
            "@main = primfn(A_1: handle, W_1: handle, B_1: handle) -> ()\n",
            "  attr = {\"from_legacy_te_schedule\": True, \"global_symbol\": \"main\", \"tir.noalias\": True}\n",
            "  buffers = {A: Buffer(A_2: Pointer(float32), float32, [4096], []),\n",
            "             W: Buffer(W_2: Pointer(float32), float32, [128], []),\n",
            "             B: Buffer(B_2: Pointer(float32), float32, [4223], [])}\n",
            "  buffer_map = {A_1: A, W_1: W, B_1: B} {\n",
            "  for (n: int32, 0, 4223) {\n",
            "    B[n] = 0f32\n",
            "    for (k: int32, 0, 4223) {\n",
            "      let cse_var_1: int32 = (n - k)\n",
            "      B[n] = (B[n] + @tir.if_then_else((((4096 <= k) || (cse_var_1 < 0)) || (128 <= cse_var_1)), 0f32, (A[k]*W[cse_var_1]), dtype=float32))\n",
            "    }\n",
            "  }\n",
            "}\n",
            "\n",
            "\n"
          ]
        }
      ],
      "source": [
        "print(tvm.lower(s, [A, W, B], simple_mode=True))"
      ]
    },
    {
      "cell_type": "code",
      "execution_count": null,
      "metadata": {
        "id": "3ozhQY7gumRH",
        "scrolled": true,
        "colab": {
          "base_uri": "https://localhost:8080/"
        },
        "outputId": "af188797-2a4a-49f0-9cea-e17e38af734b"
      },
      "outputs": [
        {
          "output_type": "stream",
          "name": "stdout",
          "text": [
            "/content/gdrive/MyDrive/ece5545/a3-CaseyPYZ\n",
            "\u001b[1m============================= test session starts ==============================\u001b[0m\n",
            "platform linux -- Python 3.7.13, pytest-3.6.4, py-1.11.0, pluggy-0.7.1\n",
            "rootdir: /content/gdrive/MyDrive/ece5545/a3-CaseyPYZ, inifile:\n",
            "plugins: typeguard-2.7.1\n",
            "collected 15 items                                                             \u001b[0m\n",
            "\n",
            "tests/test_1dconv_cpu.py ...............\u001b[36m                                 [100%]\u001b[0m\n",
            "\n",
            "\u001b[32m\u001b[1m========================== 15 passed in 10.22 seconds ==========================\u001b[0m\n"
          ]
        }
      ],
      "source": [
        "%cd {PROJECT_ROOT}\n",
        "!python -m pytest tests/test_1dconv_cpu.py"
      ]
    },
    {
      "cell_type": "markdown",
      "source": [
        "### **Opt #1: Parallel**\n",
        "\n",
        "Thread-level parallelism"
      ],
      "metadata": {
        "id": "IyFn2b9MlEez"
      }
    },
    {
      "cell_type": "code",
      "source": [
        "import tvm\n",
        "import numpy as np\n",
        "import sys\n",
        "sys.path.insert(0, PROJECT_ROOT)\n",
        "from src.ops import make_conv1d_cpu_scheduler\n",
        "\n",
        "M = 4096\n",
        "N = 128\n",
        "dtype = 'float32'\n",
        "a_np = np.random.rand(M).astype(dtype)\n",
        "w_np = np.random.rand(N).astype(dtype)\n",
        "b_np = np.convolve(a_np, w_np)\n",
        "s, A, W, B = make_conv1d_cpu_scheduler(M, N)\n",
        "func = tvm.build(s, [A, W, B], \"llvm\")\n",
        "\n",
        "dev = tvm.cpu()\n",
        "a = tvm.nd.array(a_np, dev)\n",
        "w = tvm.nd.array(w_np, dev)\n",
        "b = tvm.nd.array(np.zeros((M+N-1), dtype), dev)\n",
        "func(a, w, b)\n",
        "evaluator = func.time_evaluator(func.entry_name, dev, number=1, repeat =1)\n",
        "\n",
        "print(\"Answer:\", b_np)\n",
        "print(\"Output:\", b)\n",
        "print(f\"1D conv TVM runtime: %f ms\" % (evaluator(a, w, b).mean * 1e3))"
      ],
      "metadata": {
        "colab": {
          "base_uri": "https://localhost:8080/"
        },
        "id": "8346yIbflHrb",
        "outputId": "cdd30e11-d5b5-4ebf-c625-380fda33e74a"
      },
      "execution_count": null,
      "outputs": [
        {
          "output_type": "stream",
          "name": "stdout",
          "text": [
            "Opt #1: Parallel\n",
            "Answer: [0.15840437 0.49753007 0.5180965  ... 0.19801329 0.341344   0.04735574]\n",
            "Output: [0.15840437 0.49753007 0.5180965  ... 0.1980133  0.341344   0.04735574]\n",
            "1D conv TVM runtime: 19.437134 ms\n"
          ]
        }
      ]
    },
    {
      "cell_type": "markdown",
      "source": [
        "### **Opt #2: Parallel + Vectorization**\n",
        "\n",
        "> * Leverages the SIMD feature of CPUs\n",
        "> * Define a _factor_\n",
        "> * Split original 1-D for-loop into 2-level nested for-loops (outer & inner); _factor_ refers to the number of iterations in a inner loop"
      ],
      "metadata": {
        "id": "7cmB4_q4XjHI"
      }
    },
    {
      "cell_type": "code",
      "source": [
        "import tvm\n",
        "import numpy as np\n",
        "import sys\n",
        "sys.path.insert(0, PROJECT_ROOT)\n",
        "from src.ops import make_conv1d_cpu_scheduler\n",
        "\n",
        "M = 4096\n",
        "N = 128\n",
        "dtype = 'float32'\n",
        "a_np = np.random.rand(M).astype(dtype)\n",
        "w_np = np.random.rand(N).astype(dtype)\n",
        "b_np = np.convolve(a_np, w_np)\n",
        "s, A, W, B = make_conv1d_cpu_scheduler(M, N)\n",
        "func = tvm.build(s, [A, W, B], \"llvm\")\n",
        "\n",
        "dev = tvm.cpu()\n",
        "a = tvm.nd.array(a_np, dev)\n",
        "w = tvm.nd.array(w_np, dev)\n",
        "b = tvm.nd.array(np.zeros((M+N-1), dtype), dev)\n",
        "func(a, w, b)\n",
        "evaluator = func.time_evaluator(func.entry_name, dev, number=1, repeat =1)\n",
        "\n",
        "print(\"Answer:\", b_np)\n",
        "print(\"Output:\", b)\n",
        "print(f\"1D conv TVM runtime: %f ms\" % (evaluator(a, w, b).mean * 1e3))"
      ],
      "metadata": {
        "colab": {
          "base_uri": "https://localhost:8080/"
        },
        "id": "WWfAHQBAYN8Y",
        "outputId": "00ff6db1-5794-4e1d-e024-e1bb295c9d89"
      },
      "execution_count": null,
      "outputs": [
        {
          "output_type": "stream",
          "name": "stdout",
          "text": [
            "Opt #2: Vectorization\n",
            "Opt #3: Reorder\n",
            "Answer: [0.23211165 0.69462794 0.9569759  ... 0.766244   0.7191915  0.55083513]\n",
            "Output: [0.23211165 0.69462794 0.9569759  ... 0.766244   0.7191915  0.55083513]\n",
            "1D conv TVM runtime: 17.849412 ms\n"
          ]
        }
      ]
    },
    {
      "cell_type": "code",
      "source": [
        "%cd {PROJECT_ROOT}\n",
        "!python -m pytest tests/test_1dconv_cpu.py"
      ],
      "metadata": {
        "colab": {
          "base_uri": "https://localhost:8080/"
        },
        "id": "uj41yELXXbue",
        "outputId": "f50ebe87-5af3-4dc4-944a-3ee86f4d1b44"
      },
      "execution_count": null,
      "outputs": [
        {
          "output_type": "stream",
          "name": "stdout",
          "text": [
            "/content/gdrive/MyDrive/ece5545/a3-CaseyPYZ\n",
            "\u001b[1m============================= test session starts ==============================\u001b[0m\n",
            "platform linux -- Python 3.7.13, pytest-3.6.4, py-1.11.0, pluggy-0.7.1\n",
            "rootdir: /content/gdrive/MyDrive/ece5545/a3-CaseyPYZ, inifile:\n",
            "plugins: typeguard-2.7.1\n",
            "collected 15 items                                                             \u001b[0m\n",
            "\n",
            "tests/test_1dconv_cpu.py ...............\u001b[36m                                 [100%]\u001b[0m\n",
            "\n",
            "\u001b[32m\u001b[1m========================== 15 passed in 10.83 seconds ==========================\u001b[0m\n"
          ]
        }
      ]
    },
    {
      "cell_type": "markdown",
      "source": [
        "### **Opt #3: Reorder**"
      ],
      "metadata": {
        "id": "WuAf1awhmxxd"
      }
    },
    {
      "cell_type": "code",
      "source": [
        "import tvm\n",
        "import numpy as np\n",
        "import sys\n",
        "sys.path.insert(0, PROJECT_ROOT)\n",
        "from src.ops import make_conv1d_cpu_scheduler\n",
        "\n",
        "M = 4096\n",
        "N = 128\n",
        "dtype = 'float32'\n",
        "a_np = np.random.rand(M).astype(dtype)\n",
        "w_np = np.random.rand(N).astype(dtype)\n",
        "b_np = np.convolve(a_np, w_np)\n",
        "s, A, W, B = make_conv1d_cpu_scheduler(M, N)\n",
        "func = tvm.build(s, [A, W, B], \"llvm\")\n",
        "\n",
        "dev = tvm.cpu()\n",
        "a = tvm.nd.array(a_np, dev)\n",
        "w = tvm.nd.array(w_np, dev)\n",
        "b = tvm.nd.array(np.zeros((M+N-1), dtype), dev)\n",
        "func(a, w, b)\n",
        "evaluator = func.time_evaluator(func.entry_name, dev, number=1, repeat =1)\n",
        "\n",
        "print(\"Answer:\", b_np)\n",
        "print(\"Output:\", b)\n",
        "print(f\"1D conv TVM runtime: %f ms\" % (evaluator(a, w, b).mean * 1e3))"
      ],
      "metadata": {
        "colab": {
          "base_uri": "https://localhost:8080/"
        },
        "id": "OdlHyoigm5WX",
        "outputId": "a5417b5e-81fe-49f8-ea17-0fd8cc479196"
      },
      "execution_count": 87,
      "outputs": [
        {
          "output_type": "stream",
          "name": "stdout",
          "text": [
            "Opt #3: Parallel + Vectorization\n",
            "Answer: [0.00782458 0.0917494  0.3793432  ... 0.70045257 0.3891695  0.0875129 ]\n",
            "Output: [0.00782458 0.0917494  0.3793432  ... 0.70045257 0.3891695  0.0875129 ]\n",
            "1D conv TVM runtime: 15.466732 ms\n"
          ]
        }
      ]
    },
    {
      "cell_type": "code",
      "source": [
        "%cd {PROJECT_ROOT}\n",
        "!python -m pytest tests/test_1dconv_cpu.py"
      ],
      "metadata": {
        "colab": {
          "base_uri": "https://localhost:8080/"
        },
        "id": "yAr1RZaMnlOg",
        "outputId": "77ce5b68-907f-4f05-f0df-81ae5f376bbc"
      },
      "execution_count": null,
      "outputs": [
        {
          "output_type": "stream",
          "name": "stdout",
          "text": [
            "/content/gdrive/MyDrive/ece5545/a3-CaseyPYZ\n",
            "\u001b[1m============================= test session starts ==============================\u001b[0m\n",
            "platform linux -- Python 3.7.13, pytest-3.6.4, py-1.11.0, pluggy-0.7.1\n",
            "rootdir: /content/gdrive/MyDrive/ece5545/a3-CaseyPYZ, inifile:\n",
            "plugins: typeguard-2.7.1\n",
            "collected 15 items                                                             \u001b[0m\n",
            "\n",
            "tests/test_1dconv_cpu.py ...............\u001b[36m                                 [100%]\u001b[0m\n",
            "\n",
            "\u001b[32m\u001b[1m========================== 15 passed in 3.28 seconds ===========================\u001b[0m\n"
          ]
        }
      ]
    },
    {
      "cell_type": "markdown",
      "source": [
        "### **Opt 4: Parallel + Vectorization + Cache handling**"
      ],
      "metadata": {
        "id": "UoeOYK-lL98g"
      }
    },
    {
      "cell_type": "code",
      "source": [
        "import tvm\n",
        "import numpy as np\n",
        "import sys\n",
        "sys.path.insert(0, PROJECT_ROOT)\n",
        "from src.ops import make_conv1d_cpu_scheduler\n",
        "\n",
        "M = 4096\n",
        "N = 128\n",
        "dtype = 'float32'\n",
        "a_np = np.random.rand(M).astype(dtype)\n",
        "w_np = np.random.rand(N).astype(dtype)\n",
        "b_np = np.convolve(a_np, w_np)\n",
        "s, A, W, B = make_conv1d_cpu_scheduler(M, N)\n",
        "func = tvm.build(s, [A, W, B], \"llvm\")\n",
        "\n",
        "dev = tvm.cpu()\n",
        "a = tvm.nd.array(a_np, dev)\n",
        "w = tvm.nd.array(w_np, dev)\n",
        "b = tvm.nd.array(np.zeros((M+N-1), dtype), dev)\n",
        "func(a, w, b)\n",
        "evaluator = func.time_evaluator(func.entry_name, dev, number=1, repeat =1)\n",
        "\n",
        "print(\"Answer:\", b_np)\n",
        "print(\"Output:\", b)\n",
        "print(f\"1D conv TVM runtime: %f ms\" % (evaluator(a, w, b).mean * 1e3))"
      ],
      "metadata": {
        "colab": {
          "base_uri": "https://localhost:8080/"
        },
        "id": "fj8XAijUMApj",
        "outputId": "7779ee67-2dc8-4e73-e76c-4ced17c12d63"
      },
      "execution_count": 10,
      "outputs": [
        {
          "output_type": "stream",
          "name": "stdout",
          "text": [
            "Answer: [0.5386432  0.63778734 0.8827023  ... 1.3236036  0.53817993 0.86101097]\n",
            "Output: [0.5386432  0.63778734 0.8827023  ... 0.         0.         0.        ]\n",
            "1D conv TVM runtime: 0.363911 ms\n"
          ]
        }
      ]
    },
    {
      "cell_type": "code",
      "source": [
        "%cd {PROJECT_ROOT}\n",
        "!python -m pytest tests/test_1dconv_cpu.py"
      ],
      "metadata": {
        "colab": {
          "base_uri": "https://localhost:8080/"
        },
        "id": "PFwja9EUTQht",
        "outputId": "b9557e54-4545-4259-d591-1cb4ae2f43c3"
      },
      "execution_count": 11,
      "outputs": [
        {
          "output_type": "stream",
          "name": "stdout",
          "text": [
            "/content/gdrive/MyDrive/ece5545/a3-CaseyPYZ\n",
            "\u001b[1m============================= test session starts ==============================\u001b[0m\n",
            "platform linux -- Python 3.7.13, pytest-3.6.4, py-1.11.0, pluggy-0.7.1\n",
            "rootdir: /content/gdrive/MyDrive/ece5545/a3-CaseyPYZ, inifile:\n",
            "plugins: typeguard-2.7.1\n",
            "collected 15 items                                                             \u001b[0m\n",
            "\n",
            "tests/test_1dconv_cpu.py .....FFFFFFFFFF\u001b[36m                                 [100%]\u001b[0m\n",
            "\n",
            "=================================== FAILURES ===================================\n",
            "\u001b[31m\u001b[1m_____________________________ test1_Mvar_N1024[1] ______________________________\u001b[0m\n",
            "\n",
            "execution_number = 1\n",
            "\n",
            "\u001b[1m    @pytest.mark.parametrize('execution_number', [1, 10, 100, 1000, 10000])\u001b[0m\n",
            "\u001b[1m    def test1_Mvar_N1024(execution_number):\u001b[0m\n",
            "\u001b[1m        # Define dimension\u001b[0m\n",
            "\u001b[1m        M = execution_number\u001b[0m\n",
            "\u001b[1m        N = 1024\u001b[0m\n",
            "\u001b[1m        func = make_conv1d_cpu_func(M, N)\u001b[0m\n",
            "\u001b[1m    \u001b[0m\n",
            "\u001b[1m        # Create random test data\u001b[0m\n",
            "\u001b[1m        np.random.seed(seed=1024)\u001b[0m\n",
            "\u001b[1m        a_np = np.random.rand(M).astype(np.float32)\u001b[0m\n",
            "\u001b[1m        w_np = np.random.rand(N).astype(np.float32)\u001b[0m\n",
            "\u001b[1m        b_np = ans_np(a_np, w_np)\u001b[0m\n",
            "\u001b[1m    \u001b[0m\n",
            "\u001b[1m        a = tvm.nd.array(a_np, dev)\u001b[0m\n",
            "\u001b[1m        w = tvm.nd.array(w_np, dev)\u001b[0m\n",
            "\u001b[1m        b = tvm.nd.array(np.zeros((M + N - 1), dtype='float32'), dev)\u001b[0m\n",
            "\u001b[1m        func(a, w, b)\u001b[0m\n",
            "\u001b[1m        b_out = b.numpy()\u001b[0m\n",
            "\u001b[1m    \u001b[0m\n",
            "\u001b[1m        assert b_np.shape == b_out.shape, \\\u001b[0m\n",
            "\u001b[1m            \"Shape mismatch: \" + str(b_np.shape) + \"\\t\" + str(b_out.shape)\u001b[0m\n",
            "\u001b[1m>       assert np.allclose(b_np, b_out), \"Value mismatch: %s %s\" % (b_np, b_out)\u001b[0m\n",
            "\u001b[1m\u001b[31mE       AssertionError: Value mismatch: [0.64569217 0.3360243  0.42625383 ... 0.4389018  0.07179142 0.47470188] [6.4569217e-01 3.0771113e-41 1.3592595e-43 ... 1.9369553e-19 2.4501296e-05\u001b[0m\n",
            "\u001b[1m\u001b[31mE          3.0771113e-41]\u001b[0m\n",
            "\u001b[1m\u001b[31mE       assert False\u001b[0m\n",
            "\u001b[1m\u001b[31mE        +  where False = <function allclose at 0x7f8ef3973830>(array([0.64569217, 0.3360243 , 0.42625383, ..., 0.4389018 , 0.07179142,\\n       0.47470188], dtype=float32), array([6.4569217e-01, 3.0771113e-41, 1.3592595e-43, ..., 1.9369553e-19,\\n       2.4501296e-05, 3.0771113e-41], dtype=float32))\u001b[0m\n",
            "\u001b[1m\u001b[31mE        +    where <function allclose at 0x7f8ef3973830> = np.allclose\u001b[0m\n",
            "\n",
            "\u001b[1m\u001b[31mtests/test_1dconv_cpu.py\u001b[0m:77: AssertionError\n",
            "\u001b[31m\u001b[1m_____________________________ test1_Mvar_N1024[10] _____________________________\u001b[0m\n",
            "\n",
            "execution_number = 10\n",
            "\n",
            "\u001b[1m    @pytest.mark.parametrize('execution_number', [1, 10, 100, 1000, 10000])\u001b[0m\n",
            "\u001b[1m    def test1_Mvar_N1024(execution_number):\u001b[0m\n",
            "\u001b[1m        # Define dimension\u001b[0m\n",
            "\u001b[1m        M = execution_number\u001b[0m\n",
            "\u001b[1m        N = 1024\u001b[0m\n",
            "\u001b[1m        func = make_conv1d_cpu_func(M, N)\u001b[0m\n",
            "\u001b[1m    \u001b[0m\n",
            "\u001b[1m        # Create random test data\u001b[0m\n",
            "\u001b[1m        np.random.seed(seed=1024)\u001b[0m\n",
            "\u001b[1m        a_np = np.random.rand(M).astype(np.float32)\u001b[0m\n",
            "\u001b[1m        w_np = np.random.rand(N).astype(np.float32)\u001b[0m\n",
            "\u001b[1m        b_np = ans_np(a_np, w_np)\u001b[0m\n",
            "\u001b[1m    \u001b[0m\n",
            "\u001b[1m        a = tvm.nd.array(a_np, dev)\u001b[0m\n",
            "\u001b[1m        w = tvm.nd.array(w_np, dev)\u001b[0m\n",
            "\u001b[1m        b = tvm.nd.array(np.zeros((M + N - 1), dtype='float32'), dev)\u001b[0m\n",
            "\u001b[1m        func(a, w, b)\u001b[0m\n",
            "\u001b[1m        b_out = b.numpy()\u001b[0m\n",
            "\u001b[1m    \u001b[0m\n",
            "\u001b[1m        assert b_np.shape == b_out.shape, \\\u001b[0m\n",
            "\u001b[1m            \"Shape mismatch: \" + str(b_np.shape) + \"\\t\" + str(b_out.shape)\u001b[0m\n",
            "\u001b[1m>       assert np.allclose(b_np, b_out), \"Value mismatch: %s %s\" % (b_np, b_out)\u001b[0m\n",
            "\u001b[1m\u001b[31mE       AssertionError: Value mismatch: [0.38430926 1.1743884  1.4928422  ... 0.7963355  0.7843553  0.60569346] [3.8430926e-01 1.1743884e+00 1.4928422e+00 ... 1.3672329e-40 0.0000000e+00\u001b[0m\n",
            "\u001b[1m\u001b[31mE          0.0000000e+00]\u001b[0m\n",
            "\u001b[1m\u001b[31mE       assert False\u001b[0m\n",
            "\u001b[1m\u001b[31mE        +  where False = <function allclose at 0x7f8ef3973830>(array([0.38430926, 1.1743884 , 1.4928422 , ..., 0.7963355 , 0.7843553 ,\\n       0.60569346], dtype=float32), array([3.8430926e-01, 1.1743884e+00, 1.4928422e+00, ..., 1.3672329e-40,\\n       0.0000000e+00, 0.0000000e+00], dtype=float32))\u001b[0m\n",
            "\u001b[1m\u001b[31mE        +    where <function allclose at 0x7f8ef3973830> = np.allclose\u001b[0m\n",
            "\n",
            "\u001b[1m\u001b[31mtests/test_1dconv_cpu.py\u001b[0m:77: AssertionError\n",
            "\u001b[31m\u001b[1m____________________________ test1_Mvar_N1024[100] _____________________________\u001b[0m\n",
            "\n",
            "execution_number = 100\n",
            "\n",
            "\u001b[1m    @pytest.mark.parametrize('execution_number', [1, 10, 100, 1000, 10000])\u001b[0m\n",
            "\u001b[1m    def test1_Mvar_N1024(execution_number):\u001b[0m\n",
            "\u001b[1m        # Define dimension\u001b[0m\n",
            "\u001b[1m        M = execution_number\u001b[0m\n",
            "\u001b[1m        N = 1024\u001b[0m\n",
            "\u001b[1m        func = make_conv1d_cpu_func(M, N)\u001b[0m\n",
            "\u001b[1m    \u001b[0m\n",
            "\u001b[1m        # Create random test data\u001b[0m\n",
            "\u001b[1m        np.random.seed(seed=1024)\u001b[0m\n",
            "\u001b[1m        a_np = np.random.rand(M).astype(np.float32)\u001b[0m\n",
            "\u001b[1m        w_np = np.random.rand(N).astype(np.float32)\u001b[0m\n",
            "\u001b[1m        b_np = ans_np(a_np, w_np)\u001b[0m\n",
            "\u001b[1m    \u001b[0m\n",
            "\u001b[1m        a = tvm.nd.array(a_np, dev)\u001b[0m\n",
            "\u001b[1m        w = tvm.nd.array(w_np, dev)\u001b[0m\n",
            "\u001b[1m        b = tvm.nd.array(np.zeros((M + N - 1), dtype='float32'), dev)\u001b[0m\n",
            "\u001b[1m        func(a, w, b)\u001b[0m\n",
            "\u001b[1m        b_out = b.numpy()\u001b[0m\n",
            "\u001b[1m    \u001b[0m\n",
            "\u001b[1m        assert b_np.shape == b_out.shape, \\\u001b[0m\n",
            "\u001b[1m            \"Shape mismatch: \" + str(b_np.shape) + \"\\t\" + str(b_out.shape)\u001b[0m\n",
            "\u001b[1m>       assert np.allclose(b_np, b_out), \"Value mismatch: %s %s\" % (b_np, b_out)\u001b[0m\n",
            "\u001b[1m\u001b[31mE       AssertionError: Value mismatch: [0.57235616 1.1852133  1.3329583  ... 0.9675295  0.31366318 0.04420011] [5.7235616e-01 1.1852133e+00 1.3329583e+00 ...           nan           nan\u001b[0m\n",
            "\u001b[1m\u001b[31mE          1.7719419e-41]\u001b[0m\n",
            "\u001b[1m\u001b[31mE       assert False\u001b[0m\n",
            "\u001b[1m\u001b[31mE        +  where False = <function allclose at 0x7f8ef3973830>(array([0.57235616, 1.1852133 , 1.3329583 , ..., 0.9675295 , 0.31366318,\\n       0.04420011], dtype=float32), array([5.7235616e-01, 1.1852133e+00, 1.3329583e+00, ...,           nan,\\n                 nan, 1.7719419e-41], dtype=float32))\u001b[0m\n",
            "\u001b[1m\u001b[31mE        +    where <function allclose at 0x7f8ef3973830> = np.allclose\u001b[0m\n",
            "\n",
            "\u001b[1m\u001b[31mtests/test_1dconv_cpu.py\u001b[0m:77: AssertionError\n",
            "\u001b[31m\u001b[1m____________________________ test1_Mvar_N1024[1000] ____________________________\u001b[0m\n",
            "\n",
            "execution_number = 1000\n",
            "\n",
            "\u001b[1m    @pytest.mark.parametrize('execution_number', [1, 10, 100, 1000, 10000])\u001b[0m\n",
            "\u001b[1m    def test1_Mvar_N1024(execution_number):\u001b[0m\n",
            "\u001b[1m        # Define dimension\u001b[0m\n",
            "\u001b[1m        M = execution_number\u001b[0m\n",
            "\u001b[1m        N = 1024\u001b[0m\n",
            "\u001b[1m        func = make_conv1d_cpu_func(M, N)\u001b[0m\n",
            "\u001b[1m    \u001b[0m\n",
            "\u001b[1m        # Create random test data\u001b[0m\n",
            "\u001b[1m        np.random.seed(seed=1024)\u001b[0m\n",
            "\u001b[1m        a_np = np.random.rand(M).astype(np.float32)\u001b[0m\n",
            "\u001b[1m        w_np = np.random.rand(N).astype(np.float32)\u001b[0m\n",
            "\u001b[1m        b_np = ans_np(a_np, w_np)\u001b[0m\n",
            "\u001b[1m    \u001b[0m\n",
            "\u001b[1m        a = tvm.nd.array(a_np, dev)\u001b[0m\n",
            "\u001b[1m        w = tvm.nd.array(w_np, dev)\u001b[0m\n",
            "\u001b[1m        b = tvm.nd.array(np.zeros((M + N - 1), dtype='float32'), dev)\u001b[0m\n",
            "\u001b[1m        func(a, w, b)\u001b[0m\n",
            "\u001b[1m        b_out = b.numpy()\u001b[0m\n",
            "\u001b[1m    \u001b[0m\n",
            "\u001b[1m        assert b_np.shape == b_out.shape, \\\u001b[0m\n",
            "\u001b[1m            \"Shape mismatch: \" + str(b_np.shape) + \"\\t\" + str(b_out.shape)\u001b[0m\n",
            "\u001b[1m>       assert np.allclose(b_np, b_out), \"Value mismatch: %s %s\" % (b_np, b_out)\u001b[0m\n",
            "\u001b[1m\u001b[31mE       AssertionError: Value mismatch: [0.25500587 0.8604398  1.1026001  ... 0.66414464 0.43637037 0.1849488 ] [0.25500587 0.8604398  1.1026001  ... 0.17602797 0.6595357  0.39465347]\u001b[0m\n",
            "\u001b[1m\u001b[31mE       assert False\u001b[0m\n",
            "\u001b[1m\u001b[31mE        +  where False = <function allclose at 0x7f8ef3973830>(array([0.25500587, 0.8604398 , 1.1026001 , ..., 0.66414464, 0.43637037,\\n       0.1849488 ], dtype=float32), array([0.25500587, 0.8604398 , 1.1026001 , ..., 0.17602797, 0.6595357 ,\\n       0.39465347], dtype=float32))\u001b[0m\n",
            "\u001b[1m\u001b[31mE        +    where <function allclose at 0x7f8ef3973830> = np.allclose\u001b[0m\n",
            "\n",
            "\u001b[1m\u001b[31mtests/test_1dconv_cpu.py\u001b[0m:77: AssertionError\n",
            "\u001b[31m\u001b[1m___________________________ test1_Mvar_N1024[10000] ____________________________\u001b[0m\n",
            "\n",
            "execution_number = 10000\n",
            "\n",
            "\u001b[1m    @pytest.mark.parametrize('execution_number', [1, 10, 100, 1000, 10000])\u001b[0m\n",
            "\u001b[1m    def test1_Mvar_N1024(execution_number):\u001b[0m\n",
            "\u001b[1m        # Define dimension\u001b[0m\n",
            "\u001b[1m        M = execution_number\u001b[0m\n",
            "\u001b[1m        N = 1024\u001b[0m\n",
            "\u001b[1m        func = make_conv1d_cpu_func(M, N)\u001b[0m\n",
            "\u001b[1m    \u001b[0m\n",
            "\u001b[1m        # Create random test data\u001b[0m\n",
            "\u001b[1m        np.random.seed(seed=1024)\u001b[0m\n",
            "\u001b[1m        a_np = np.random.rand(M).astype(np.float32)\u001b[0m\n",
            "\u001b[1m        w_np = np.random.rand(N).astype(np.float32)\u001b[0m\n",
            "\u001b[1m        b_np = ans_np(a_np, w_np)\u001b[0m\n",
            "\u001b[1m    \u001b[0m\n",
            "\u001b[1m        a = tvm.nd.array(a_np, dev)\u001b[0m\n",
            "\u001b[1m        w = tvm.nd.array(w_np, dev)\u001b[0m\n",
            "\u001b[1m        b = tvm.nd.array(np.zeros((M + N - 1), dtype='float32'), dev)\u001b[0m\n",
            "\u001b[1m        func(a, w, b)\u001b[0m\n",
            "\u001b[1m        b_out = b.numpy()\u001b[0m\n",
            "\u001b[1m    \u001b[0m\n",
            "\u001b[1m        assert b_np.shape == b_out.shape, \\\u001b[0m\n",
            "\u001b[1m            \"Shape mismatch: \" + str(b_np.shape) + \"\\t\" + str(b_out.shape)\u001b[0m\n",
            "\u001b[1m>       assert np.allclose(b_np, b_out), \"Value mismatch: %s %s\" % (b_np, b_out)\u001b[0m\n",
            "\u001b[1m\u001b[31mE       AssertionError: Value mismatch: [0.3747221  0.9154441  0.8500764  ... 0.6351857  0.15372238 0.01201932] [0.3747221 0.9154441 0.8500763 ... 0.        0.        0.       ]\u001b[0m\n",
            "\u001b[1m\u001b[31mE       assert False\u001b[0m\n",
            "\u001b[1m\u001b[31mE        +  where False = <function allclose at 0x7f8ef3973830>(array([0.3747221 , 0.9154441 , 0.8500764 , ..., 0.6351857 , 0.15372238,\\n       0.01201932], dtype=float32), array([0.3747221, 0.9154441, 0.8500763, ..., 0.       , 0.       ,\\n       0.       ], dtype=float32))\u001b[0m\n",
            "\u001b[1m\u001b[31mE        +    where <function allclose at 0x7f8ef3973830> = np.allclose\u001b[0m\n",
            "\n",
            "\u001b[1m\u001b[31mtests/test_1dconv_cpu.py\u001b[0m:77: AssertionError\n",
            "\u001b[31m\u001b[1m_____________________________ test1_M1024_Nvar[1] ______________________________\u001b[0m\n",
            "\n",
            "execution_number = 1\n",
            "\n",
            "\u001b[1m    @pytest.mark.parametrize('execution_number', [1, 10, 100, 1000, 10000])\u001b[0m\n",
            "\u001b[1m    def test1_M1024_Nvar(execution_number):\u001b[0m\n",
            "\u001b[1m        # Define dimension\u001b[0m\n",
            "\u001b[1m        M = 1024\u001b[0m\n",
            "\u001b[1m        N = execution_number\u001b[0m\n",
            "\u001b[1m        func = make_conv1d_cpu_func(M, N)\u001b[0m\n",
            "\u001b[1m    \u001b[0m\n",
            "\u001b[1m        # Create random test data\u001b[0m\n",
            "\u001b[1m        np.random.seed(seed=1024)\u001b[0m\n",
            "\u001b[1m        a_np = np.random.rand(M).astype(np.float32)\u001b[0m\n",
            "\u001b[1m        w_np = np.random.rand(N).astype(np.float32)\u001b[0m\n",
            "\u001b[1m        b_np = ans_np(a_np, w_np)\u001b[0m\n",
            "\u001b[1m    \u001b[0m\n",
            "\u001b[1m        a = tvm.nd.array(a_np, dev)\u001b[0m\n",
            "\u001b[1m        w = tvm.nd.array(w_np, dev)\u001b[0m\n",
            "\u001b[1m        b = tvm.nd.array(np.zeros((M + N - 1), dtype='float32'), dev)\u001b[0m\n",
            "\u001b[1m        func(a, w, b)\u001b[0m\n",
            "\u001b[1m        b_out = b.numpy()\u001b[0m\n",
            "\u001b[1m    \u001b[0m\n",
            "\u001b[1m        assert b_np.shape == b_out.shape, \\\u001b[0m\n",
            "\u001b[1m            \"Shape mismatch: \" + str(b_np.shape) + \"\\t\" + str(b_out.shape)\u001b[0m\n",
            "\u001b[1m>       assert np.allclose(b_np, b_out), \"Value mismatch: %s %s\" % (b_np, b_out)\u001b[0m\n",
            "\u001b[1m\u001b[31mE       AssertionError: Value mismatch: [0.47470188 0.73065174 0.3802381  ... 0.16309676 0.4966521  0.08123766] [0.47470188 0.         0.         ... 0.         0.         0.        ]\u001b[0m\n",
            "\u001b[1m\u001b[31mE       assert False\u001b[0m\n",
            "\u001b[1m\u001b[31mE        +  where False = <function allclose at 0x7f8ef3973830>(array([0.47470188, 0.73065174, 0.3802381 , ..., 0.16309676, 0.4966521 ,\\n       0.08123766], dtype=float32), array([0.47470188, 0.        , 0.        , ..., 0.        , 0.        ,\\n       0.        ], dtype=float32))\u001b[0m\n",
            "\u001b[1m\u001b[31mE        +    where <function allclose at 0x7f8ef3973830> = np.allclose\u001b[0m\n",
            "\n",
            "\u001b[1m\u001b[31mtests/test_1dconv_cpu.py\u001b[0m:101: AssertionError\n",
            "\u001b[31m\u001b[1m_____________________________ test1_M1024_Nvar[10] _____________________________\u001b[0m\n",
            "\n",
            "execution_number = 10\n",
            "\n",
            "\u001b[1m    @pytest.mark.parametrize('execution_number', [1, 10, 100, 1000, 10000])\u001b[0m\n",
            "\u001b[1m    def test1_M1024_Nvar(execution_number):\u001b[0m\n",
            "\u001b[1m        # Define dimension\u001b[0m\n",
            "\u001b[1m        M = 1024\u001b[0m\n",
            "\u001b[1m        N = execution_number\u001b[0m\n",
            "\u001b[1m        func = make_conv1d_cpu_func(M, N)\u001b[0m\n",
            "\u001b[1m    \u001b[0m\n",
            "\u001b[1m        # Create random test data\u001b[0m\n",
            "\u001b[1m        np.random.seed(seed=1024)\u001b[0m\n",
            "\u001b[1m        a_np = np.random.rand(M).astype(np.float32)\u001b[0m\n",
            "\u001b[1m        w_np = np.random.rand(N).astype(np.float32)\u001b[0m\n",
            "\u001b[1m        b_np = ans_np(a_np, w_np)\u001b[0m\n",
            "\u001b[1m    \u001b[0m\n",
            "\u001b[1m        a = tvm.nd.array(a_np, dev)\u001b[0m\n",
            "\u001b[1m        w = tvm.nd.array(w_np, dev)\u001b[0m\n",
            "\u001b[1m        b = tvm.nd.array(np.zeros((M + N - 1), dtype='float32'), dev)\u001b[0m\n",
            "\u001b[1m        func(a, w, b)\u001b[0m\n",
            "\u001b[1m        b_out = b.numpy()\u001b[0m\n",
            "\u001b[1m    \u001b[0m\n",
            "\u001b[1m        assert b_np.shape == b_out.shape, \\\u001b[0m\n",
            "\u001b[1m            \"Shape mismatch: \" + str(b_np.shape) + \"\\t\" + str(b_out.shape)\u001b[0m\n",
            "\u001b[1m>       assert np.allclose(b_np, b_out), \"Value mismatch: %s %s\" % (b_np, b_out)\u001b[0m\n",
            "\u001b[1m\u001b[31mE       AssertionError: Value mismatch: [0.47470188 0.8263042  0.8126988  ... 0.9317561  0.69155735 0.09612335] [0.47470188 0.8263042  0.81269884 ... 0.         0.         0.        ]\u001b[0m\n",
            "\u001b[1m\u001b[31mE       assert False\u001b[0m\n",
            "\u001b[1m\u001b[31mE        +  where False = <function allclose at 0x7f8ef3973830>(array([0.47470188, 0.8263042 , 0.8126988 , ..., 0.9317561 , 0.69155735,\\n       0.09612335], dtype=float32), array([0.47470188, 0.8263042 , 0.81269884, ..., 0.        , 0.        ,\\n       0.        ], dtype=float32))\u001b[0m\n",
            "\u001b[1m\u001b[31mE        +    where <function allclose at 0x7f8ef3973830> = np.allclose\u001b[0m\n",
            "\n",
            "\u001b[1m\u001b[31mtests/test_1dconv_cpu.py\u001b[0m:101: AssertionError\n",
            "\u001b[31m\u001b[1m____________________________ test1_M1024_Nvar[100] _____________________________\u001b[0m\n",
            "\n",
            "execution_number = 100\n",
            "\n",
            "\u001b[1m    @pytest.mark.parametrize('execution_number', [1, 10, 100, 1000, 10000])\u001b[0m\n",
            "\u001b[1m    def test1_M1024_Nvar(execution_number):\u001b[0m\n",
            "\u001b[1m        # Define dimension\u001b[0m\n",
            "\u001b[1m        M = 1024\u001b[0m\n",
            "\u001b[1m        N = execution_number\u001b[0m\n",
            "\u001b[1m        func = make_conv1d_cpu_func(M, N)\u001b[0m\n",
            "\u001b[1m    \u001b[0m\n",
            "\u001b[1m        # Create random test data\u001b[0m\n",
            "\u001b[1m        np.random.seed(seed=1024)\u001b[0m\n",
            "\u001b[1m        a_np = np.random.rand(M).astype(np.float32)\u001b[0m\n",
            "\u001b[1m        w_np = np.random.rand(N).astype(np.float32)\u001b[0m\n",
            "\u001b[1m        b_np = ans_np(a_np, w_np)\u001b[0m\n",
            "\u001b[1m    \u001b[0m\n",
            "\u001b[1m        a = tvm.nd.array(a_np, dev)\u001b[0m\n",
            "\u001b[1m        w = tvm.nd.array(w_np, dev)\u001b[0m\n",
            "\u001b[1m        b = tvm.nd.array(np.zeros((M + N - 1), dtype='float32'), dev)\u001b[0m\n",
            "\u001b[1m        func(a, w, b)\u001b[0m\n",
            "\u001b[1m        b_out = b.numpy()\u001b[0m\n",
            "\u001b[1m    \u001b[0m\n",
            "\u001b[1m        assert b_np.shape == b_out.shape, \\\u001b[0m\n",
            "\u001b[1m            \"Shape mismatch: \" + str(b_np.shape) + \"\\t\" + str(b_out.shape)\u001b[0m\n",
            "\u001b[1m>       assert np.allclose(b_np, b_out), \"Value mismatch: %s %s\" % (b_np, b_out)\u001b[0m\n",
            "\u001b[1m\u001b[31mE       AssertionError: Value mismatch: [0.47470188 0.8263042  0.8126988  ... 0.29746354 0.06278701 0.00492544] [0.47470188 0.8263042  0.81269884 ... 0.         0.         0.        ]\u001b[0m\n",
            "\u001b[1m\u001b[31mE       assert False\u001b[0m\n",
            "\u001b[1m\u001b[31mE        +  where False = <function allclose at 0x7f8ef3973830>(array([0.47470188, 0.8263042 , 0.8126988 , ..., 0.29746354, 0.06278701,\\n       0.00492544], dtype=float32), array([0.47470188, 0.8263042 , 0.81269884, ..., 0.        , 0.        ,\\n       0.        ], dtype=float32))\u001b[0m\n",
            "\u001b[1m\u001b[31mE        +    where <function allclose at 0x7f8ef3973830> = np.allclose\u001b[0m\n",
            "\n",
            "\u001b[1m\u001b[31mtests/test_1dconv_cpu.py\u001b[0m:101: AssertionError\n",
            "\u001b[31m\u001b[1m____________________________ test1_M1024_Nvar[1000] ____________________________\u001b[0m\n",
            "\n",
            "execution_number = 1000\n",
            "\n",
            "\u001b[1m    @pytest.mark.parametrize('execution_number', [1, 10, 100, 1000, 10000])\u001b[0m\n",
            "\u001b[1m    def test1_M1024_Nvar(execution_number):\u001b[0m\n",
            "\u001b[1m        # Define dimension\u001b[0m\n",
            "\u001b[1m        M = 1024\u001b[0m\n",
            "\u001b[1m        N = execution_number\u001b[0m\n",
            "\u001b[1m        func = make_conv1d_cpu_func(M, N)\u001b[0m\n",
            "\u001b[1m    \u001b[0m\n",
            "\u001b[1m        # Create random test data\u001b[0m\n",
            "\u001b[1m        np.random.seed(seed=1024)\u001b[0m\n",
            "\u001b[1m        a_np = np.random.rand(M).astype(np.float32)\u001b[0m\n",
            "\u001b[1m        w_np = np.random.rand(N).astype(np.float32)\u001b[0m\n",
            "\u001b[1m        b_np = ans_np(a_np, w_np)\u001b[0m\n",
            "\u001b[1m    \u001b[0m\n",
            "\u001b[1m        a = tvm.nd.array(a_np, dev)\u001b[0m\n",
            "\u001b[1m        w = tvm.nd.array(w_np, dev)\u001b[0m\n",
            "\u001b[1m        b = tvm.nd.array(np.zeros((M + N - 1), dtype='float32'), dev)\u001b[0m\n",
            "\u001b[1m        func(a, w, b)\u001b[0m\n",
            "\u001b[1m        b_out = b.numpy()\u001b[0m\n",
            "\u001b[1m    \u001b[0m\n",
            "\u001b[1m        assert b_np.shape == b_out.shape, \\\u001b[0m\n",
            "\u001b[1m            \"Shape mismatch: \" + str(b_np.shape) + \"\\t\" + str(b_out.shape)\u001b[0m\n",
            "\u001b[1m>       assert np.allclose(b_np, b_out), \"Value mismatch: %s %s\" % (b_np, b_out)\u001b[0m\n",
            "\u001b[1m\u001b[31mE       AssertionError: Value mismatch: [0.47470188 0.8263042  0.8126988  ... 0.6283703  0.3906231  0.05033227] [0.47470188 0.8263042  0.81269884 ... 0.         0.         0.        ]\u001b[0m\n",
            "\u001b[1m\u001b[31mE       assert False\u001b[0m\n",
            "\u001b[1m\u001b[31mE        +  where False = <function allclose at 0x7f8ef3973830>(array([0.47470188, 0.8263042 , 0.8126988 , ..., 0.6283703 , 0.3906231 ,\\n       0.05033227], dtype=float32), array([0.47470188, 0.8263042 , 0.81269884, ..., 0.        , 0.        ,\\n       0.        ], dtype=float32))\u001b[0m\n",
            "\u001b[1m\u001b[31mE        +    where <function allclose at 0x7f8ef3973830> = np.allclose\u001b[0m\n",
            "\n",
            "\u001b[1m\u001b[31mtests/test_1dconv_cpu.py\u001b[0m:101: AssertionError\n",
            "\u001b[31m\u001b[1m___________________________ test1_M1024_Nvar[10000] ____________________________\u001b[0m\n",
            "\n",
            "execution_number = 10000\n",
            "\n",
            "\u001b[1m    @pytest.mark.parametrize('execution_number', [1, 10, 100, 1000, 10000])\u001b[0m\n",
            "\u001b[1m    def test1_M1024_Nvar(execution_number):\u001b[0m\n",
            "\u001b[1m        # Define dimension\u001b[0m\n",
            "\u001b[1m        M = 1024\u001b[0m\n",
            "\u001b[1m        N = execution_number\u001b[0m\n",
            "\u001b[1m        func = make_conv1d_cpu_func(M, N)\u001b[0m\n",
            "\u001b[1m    \u001b[0m\n",
            "\u001b[1m        # Create random test data\u001b[0m\n",
            "\u001b[1m        np.random.seed(seed=1024)\u001b[0m\n",
            "\u001b[1m        a_np = np.random.rand(M).astype(np.float32)\u001b[0m\n",
            "\u001b[1m        w_np = np.random.rand(N).astype(np.float32)\u001b[0m\n",
            "\u001b[1m        b_np = ans_np(a_np, w_np)\u001b[0m\n",
            "\u001b[1m    \u001b[0m\n",
            "\u001b[1m        a = tvm.nd.array(a_np, dev)\u001b[0m\n",
            "\u001b[1m        w = tvm.nd.array(w_np, dev)\u001b[0m\n",
            "\u001b[1m        b = tvm.nd.array(np.zeros((M + N - 1), dtype='float32'), dev)\u001b[0m\n",
            "\u001b[1m        func(a, w, b)\u001b[0m\n",
            "\u001b[1m        b_out = b.numpy()\u001b[0m\n",
            "\u001b[1m    \u001b[0m\n",
            "\u001b[1m        assert b_np.shape == b_out.shape, \\\u001b[0m\n",
            "\u001b[1m            \"Shape mismatch: \" + str(b_np.shape) + \"\\t\" + str(b_out.shape)\u001b[0m\n",
            "\u001b[1m>       assert np.allclose(b_np, b_out), \"Value mismatch: %s %s\" % (b_np, b_out)\u001b[0m\n",
            "\u001b[1m\u001b[31mE       AssertionError: Value mismatch: [0.47470188 0.8263042  0.8126988  ... 0.65925765 0.16220716 0.01204472] [4.7470188e-01 8.2630420e-01 8.1269884e-01 ...           nan           nan\u001b[0m\n",
            "\u001b[1m\u001b[31mE          1.3662660e-41]\u001b[0m\n",
            "\u001b[1m\u001b[31mE       assert False\u001b[0m\n",
            "\u001b[1m\u001b[31mE        +  where False = <function allclose at 0x7f8ef3973830>(array([0.47470188, 0.8263042 , 0.8126988 , ..., 0.65925765, 0.16220716,\\n       0.01204472], dtype=float32), array([4.7470188e-01, 8.2630420e-01, 8.1269884e-01, ...,           nan,\\n                 nan, 1.3662660e-41], dtype=float32))\u001b[0m\n",
            "\u001b[1m\u001b[31mE        +    where <function allclose at 0x7f8ef3973830> = np.allclose\u001b[0m\n",
            "\n",
            "\u001b[1m\u001b[31mtests/test_1dconv_cpu.py\u001b[0m:101: AssertionError\n",
            "\u001b[31m\u001b[1m===================== 10 failed, 5 passed in 9.65 seconds ======================\u001b[0m\n"
          ]
        }
      ]
    }
  ],
  "metadata": {
    "colab": {
      "collapsed_sections": [],
      "name": "1-conv1d_cpu.ipynb",
      "provenance": [],
      "include_colab_link": true
    },
    "kernelspec": {
      "display_name": "Python 3 (ipykernel)",
      "language": "python",
      "name": "python3"
    },
    "language_info": {
      "codemirror_mode": {
        "name": "ipython",
        "version": 3
      },
      "file_extension": ".py",
      "mimetype": "text/x-python",
      "name": "python",
      "nbconvert_exporter": "python",
      "pygments_lexer": "ipython3",
      "version": "3.8.3"
    }
  },
  "nbformat": 4,
  "nbformat_minor": 0
}